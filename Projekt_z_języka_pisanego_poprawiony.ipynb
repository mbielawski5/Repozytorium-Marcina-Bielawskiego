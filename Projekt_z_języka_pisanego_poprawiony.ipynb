{
  "nbformat": 4,
  "nbformat_minor": 0,
  "metadata": {
    "colab": {
      "provenance": []
    },
    "kernelspec": {
      "name": "python3",
      "display_name": "Python 3"
    },
    "language_info": {
      "name": "python"
    }
  },
  "cells": [
    {
      "cell_type": "markdown",
      "source": [
        "## **The sentiment analysis of an IMDB review**"
      ],
      "metadata": {
        "id": "3iYtQquq9_fc"
      }
    },
    {
      "cell_type": "markdown",
      "source": [
        "I am going to perform **sentiment analysis** on an **IMDB reviews** of a movie **'The Lord of the Rings: The Fellowship of the Ring'**. The classic movie directed by Peter Jackson in the year of 2001 is widely considered one of the best movies of all-time and as a medium this well-loved it serves as a good basis for conducting any types of sentiment analyses"
      ],
      "metadata": {
        "id": "GHlbuj92w10D"
      }
    },
    {
      "cell_type": "markdown",
      "source": [
        "# **The purposes it may serve**"
      ],
      "metadata": {
        "id": "5tl723Cq-O1Q"
      }
    },
    {
      "cell_type": "markdown",
      "source": [
        "The main and the most logical purpose a sentiment analysis could serve, is **detecting the general emotional nature of a piece of media**. With its' help, one could potentially be able to pinpoint the tone of a message - whether it was **positive**, **negative** or **neutral**. At times it is not as simple to do so, and so the automatisation of the process may help greatly. (Hamborg and Karsten 2021)\n",
        "Moreover, it is just simply interesting to consider, what results granted in these studies may turn out to be."
      ],
      "metadata": {
        "id": "9N_U5hiL-W6n"
      }
    },
    {
      "cell_type": "markdown",
      "source": [
        "## **Hypothesis**"
      ],
      "metadata": {
        "id": "DZorkcnw_nSu"
      }
    },
    {
      "cell_type": "markdown",
      "source": [
        "Modern computing tools are able to perform the action **astonishingly** well. With the amount of data that has been put into these computing devices over the course of the years, it became exceptional at detecting and evaluating the true intentions behind **even the most convoluted statements**.\n",
        "In this particular instance our purpose is to analyse the sentiment behind the review in question to examine in order to prove, that the sentiment in question is, in fact, **positive**."
      ],
      "metadata": {
        "id": "qdad4Nj2_vN8"
      }
    },
    {
      "cell_type": "markdown",
      "source": [
        "## **Methodology** and the **process** itself"
      ],
      "metadata": {
        "id": "lK-kOKk8A70e"
      }
    },
    {
      "cell_type": "markdown",
      "source": [
        "For the matter to be put in the proper perspective, the most significant steps of the research are going to be explained **below**."
      ],
      "metadata": {
        "id": "f02ZrK8SCuUt"
      }
    },
    {
      "cell_type": "markdown",
      "source": [
        "**A) BEAUTIFUL SOUP** is a useful library of Python, which allows us to parse documents in HTML. **B) SENTIMENT INTENSITY ANALYSER** is a tool, which serves a purpose that is suggested in the name itself. And **C) REQUESTS** is a module, that allows one to extract desired data from the source used. These tools will help us achieve the goal intended."
      ],
      "metadata": {
        "id": "yhb6QlEaDI8E"
      }
    },
    {
      "cell_type": "markdown",
      "source": [
        "The following code is the gathering of data:"
      ],
      "metadata": {
        "id": "KIKczADqaQeS"
      }
    },
    {
      "cell_type": "code",
      "source": [
        "import requests\n",
        "from bs4 import BeautifulSoup\n",
        "import pandas as pd\n",
        "\n",
        "url = 'https://www.imdb.com/title/tt0120737/reviews?ref_=tt_urv'\n",
        "response = requests.get(url)\n",
        "\n",
        "soup = BeautifulSoup(response.content, 'html.parser')\n",
        "\n",
        "reviews = []\n",
        "review_elements = soup.find_all('div', class_='text show-more__control')\n",
        "for element in review_elements:\n",
        "    review = element.text.strip()\n",
        "    reviews.append(review)\n",
        "\n",
        "df_reviews = pd.DataFrame(reviews, columns=['Review'])"
      ],
      "metadata": {
        "id": "F9sjkXQWZnY3"
      },
      "execution_count": 7,
      "outputs": []
    },
    {
      "cell_type": "markdown",
      "source": [
        "The following code is the way of preprocessing the data given:"
      ],
      "metadata": {
        "id": "AOIP9e5BarnS"
      }
    },
    {
      "cell_type": "code",
      "source": [
        "import nltk\n",
        "from nltk.tokenize import word_tokenize\n",
        "from nltk.corpus import stopwords\n",
        "import string\n",
        "\n",
        "nltk.download('punkt')\n",
        "nltk.download('stopwords')\n",
        "\n",
        "def preprocess_text(text):\n",
        "    # Remove HTML tags\n",
        "    text = BeautifulSoup(text, 'html.parser').get_text()\n",
        "\n",
        "    # Tokenize\n",
        "    tokens = word_tokenize(text)\n",
        "\n",
        "    # Convert to lowercase\n",
        "    tokens_lower = [token.lower() for token in tokens]\n",
        "\n",
        "    # Remove stopwords and punctuation\n",
        "    stopwords_set = set(stopwords.words('english'))\n",
        "    tokens_filtered = [token for token in tokens_lower if token not in stopwords_set and token not in string.punctuation]\n",
        "\n",
        "    # Join tokens back into text\n",
        "    preprocessed_text = ' '.join(tokens_filtered)\n",
        "    return preprocessed_text\n",
        "\n",
        "df_reviews['Cleaned Review'] = df_reviews['Review'].apply(preprocess_text)"
      ],
      "metadata": {
        "colab": {
          "base_uri": "https://localhost:8080/"
        },
        "id": "oxYtCcAraX5V",
        "outputId": "3c690533-540b-4ec2-b6dc-b41bef93ee59"
      },
      "execution_count": 8,
      "outputs": [
        {
          "output_type": "stream",
          "name": "stderr",
          "text": [
            "[nltk_data] Downloading package punkt to /root/nltk_data...\n",
            "[nltk_data]   Unzipping tokenizers/punkt.zip.\n",
            "[nltk_data] Downloading package stopwords to /root/nltk_data...\n",
            "[nltk_data]   Unzipping corpora/stopwords.zip.\n"
          ]
        }
      ]
    },
    {
      "cell_type": "markdown",
      "source": [
        "Now it's time to do the sentiment analysis of the training data:"
      ],
      "metadata": {
        "id": "yvtbp3OwbIq_"
      }
    },
    {
      "cell_type": "code",
      "source": [
        "import nltk\n",
        "from nltk.corpus import movie_reviews\n",
        "from sklearn.feature_extraction.text import TfidfVectorizer\n",
        "from sklearn.model_selection import train_test_split\n",
        "from sklearn.svm import SVC\n",
        "from sklearn.metrics import classification_report, accuracy_score\n",
        "\n",
        "nltk.download('movie_reviews')\n",
        "\n",
        "# Load the movie reviews corpus\n",
        "reviews = [(movie_reviews.raw(fileid), category) for category in movie_reviews.categories() for fileid in movie_reviews.fileids(category)]\n",
        "review_texts = [review[0] for review in reviews]\n",
        "review_labels = [review[1] for review in reviews]\n",
        "\n",
        "# Split the dataset into training and test sets\n",
        "X_train, X_test, y_train, y_test = train_test_split(review_texts, review_labels, test_size=0.2, random_state=42)\n",
        "\n",
        "# Preprocess the training set\n",
        "preprocessed_X_train = [preprocess_text(text) for text in X_train]\n",
        "\n",
        "# Vectorize the preprocessed training set using TF-IDF\n",
        "vectorizer = TfidfVectorizer()\n",
        "X_train_vectorized = vectorizer.fit_transform(preprocessed_X_train)\n",
        "\n",
        "# Train a support vector machine (SVM) classifier\n",
        "svm_classifier = SVC(kernel='linear')\n",
        "svm_classifier.fit(X_train_vectorized, y_train)\n",
        "\n",
        "# Preprocess the test set\n",
        "preprocessed_X_test = [preprocess_text(text) for text in X_test]\n",
        "\n",
        "# Vectorize the preprocessed test set using the same vectorizer\n",
        "X_test_vectorized = vectorizer.transform(preprocessed_X_test)\n",
        "\n",
        "# Predict the sentiment labels of the test set\n",
        "y_pred = svm_classifier.predict(X_test_vectorized)\n",
        "\n",
        "# Evaluate the classifier\n",
        "print(classification_report(y_test, y_pred))\n",
        "print('Accuracy:', accuracy_score(y_test, y_pred))"
      ],
      "metadata": {
        "colab": {
          "base_uri": "https://localhost:8080/"
        },
        "id": "jcKJEOX7bX-I",
        "outputId": "bb90895e-5e74-4bbd-d0a0-f613baaf31b1"
      },
      "execution_count": 9,
      "outputs": [
        {
          "output_type": "stream",
          "name": "stderr",
          "text": [
            "[nltk_data] Downloading package movie_reviews to /root/nltk_data...\n",
            "[nltk_data]   Unzipping corpora/movie_reviews.zip.\n"
          ]
        },
        {
          "output_type": "stream",
          "name": "stdout",
          "text": [
            "              precision    recall  f1-score   support\n",
            "\n",
            "         neg       0.82      0.82      0.82       199\n",
            "         pos       0.83      0.83      0.83       201\n",
            "\n",
            "    accuracy                           0.82       400\n",
            "   macro avg       0.82      0.82      0.82       400\n",
            "weighted avg       0.82      0.82      0.82       400\n",
            "\n",
            "Accuracy: 0.825\n"
          ]
        }
      ]
    },
    {
      "cell_type": "markdown",
      "source": [
        "Accuracy = 82.5% which is rather high.\n",
        "\n",
        "Now I will conduct the sentiment analysis on the gathered reviews."
      ],
      "metadata": {
        "id": "tExbwi2Ubw7A"
      }
    },
    {
      "cell_type": "code",
      "source": [
        "preprocessed_scraped_reviews = [preprocess_text(text) for text in df_reviews['Review']]\n",
        "scraped_reviews_vectorized = vectorizer.transform(preprocessed_scraped_reviews)\n",
        "scraped_reviews_pred = svm_classifier.predict(scraped_reviews_vectorized)\n",
        "\n",
        "df_reviews['Sentiment'] = scraped_reviews_pred\n",
        "df_reviews['Sentiment'] = df_reviews['Sentiment'].map({'neg': 'Negative', 'pos': 'Positive'})"
      ],
      "metadata": {
        "id": "ahDtiyJccKxX"
      },
      "execution_count": 10,
      "outputs": []
    },
    {
      "cell_type": "markdown",
      "source": [
        "Now it would be good to visualise the results of the research previously conducted:"
      ],
      "metadata": {
        "id": "kQiRGfzTcUy2"
      }
    },
    {
      "cell_type": "code",
      "source": [
        "import matplotlib.pyplot as plt\n",
        "\n",
        "sentiment_counts = df_reviews['Sentiment'].value_counts()\n",
        "\n",
        "# Plotting the sentiment distribution\n",
        "plt.figure(figsize=(6, 4))\n",
        "sentiment_counts.plot(kind='bar', color=['blue', 'yellow'])\n",
        "plt.title('Sentiment Distribution of the Lord of the Rings: The Fellowship of the Ring Movie Reviews')\n",
        "plt.xlabel('Sentiment')\n",
        "plt.ylabel('Count')\n",
        "plt.xticks(rotation=0)\n",
        "plt.show()"
      ],
      "metadata": {
        "colab": {
          "base_uri": "https://localhost:8080/",
          "height": 410
        },
        "id": "VMyiDR-lceu7",
        "outputId": "53aecbac-0a6f-4877-ed7d-38c5c7977239"
      },
      "execution_count": 12,
      "outputs": [
        {
          "output_type": "display_data",
          "data": {
            "text/plain": [
              "<Figure size 600x400 with 1 Axes>"
            ],
            "image/png": "[encoded data removed]"
          },
          "metadata": {}
        }
      ]
    },
    {
      "cell_type": "markdown",
      "source": [
        "## **Conclusion**"
      ],
      "metadata": {
        "id": "4nT8D7wPc19z"
      }
    },
    {
      "cell_type": "markdown",
      "source": [
        "Overall the sentiment is positive and granted the movie is generally considered a cult classic, in a way this was to be expected."
      ],
      "metadata": {
        "id": "kthCII4Uc5Qe"
      }
    }
  ]
}