{
  "nbformat": 4,
  "nbformat_minor": 0,
  "metadata": {
    "colab": {
      "provenance": []
    },
    "kernelspec": {
      "name": "python3",
      "display_name": "Python 3"
    },
    "language_info": {
      "name": "python"
    }
  },
  "cells": [
    {
      "cell_type": "markdown",
      "source": [
        "I am going to perform sentiment analysis on an IMDB review of a movie 'The Lord of the Rings: The Fellowship of the Ring' by the user ccthemovieman-1."
      ],
      "metadata": {
        "id": "GHlbuj92w10D"
      }
    },
    {
      "cell_type": "code",
      "source": [
        "import requests"
      ],
      "metadata": {
        "id": "lH4yXfIYzcSE"
      },
      "execution_count": null,
      "outputs": []
    },
    {
      "cell_type": "code",
      "source": [
        "from bs4 import BeautifulSoup"
      ],
      "metadata": {
        "id": "OushW0UZzeS9"
      },
      "execution_count": null,
      "outputs": []
    },
    {
      "cell_type": "code",
      "source": [
        "from nltk.sentiment import SentimentIntensityAnalyser"
      ],
      "metadata": {
        "id": "HaynhyTEzj_5"
      },
      "execution_count": null,
      "outputs": []
    },
    {
      "cell_type": "markdown",
      "source": [
        "Then I have to provide a link for the review in question."
      ],
      "metadata": {
        "id": "3Gp9B673zrXc"
      }
    },
    {
      "cell_type": "code",
      "source": [
        "url = https://www.imdb.com/review/rw1308663/?ref_=tt_urv&fbclid=IwAR0v5FtrF_B18IylRCdzbed84pEJ8Isw15IHE93f5a8_mr9T4nw6zV0SIPk"
      ],
      "metadata": {
        "id": "D7pr12l_zzCv"
      },
      "execution_count": null,
      "outputs": []
    },
    {
      "cell_type": "markdown",
      "source": [
        "Then I have to send a request for the URL to sent me the content of HTML"
      ],
      "metadata": {
        "id": "xQ-a3yY413o0"
      }
    },
    {
      "cell_type": "code",
      "source": [
        "response = request.get(url)\n",
        "html_content = response.text"
      ],
      "metadata": {
        "id": "0qecP0o12CWE"
      },
      "execution_count": null,
      "outputs": []
    },
    {
      "cell_type": "markdown",
      "source": [
        "BeautifulSoup to parse the HTML"
      ],
      "metadata": {
        "id": "VJThg5re2p7L"
      }
    },
    {
      "cell_type": "code",
      "source": [
        "soup = BeautifulSoup(html_content, \"html.parser\")"
      ],
      "metadata": {
        "id": "5z5Rm3mB2vh4"
      },
      "execution_count": null,
      "outputs": []
    },
    {
      "cell_type": "markdown",
      "source": [
        "Finding the the review text"
      ],
      "metadata": {
        "id": "gqP7Sj8Z3Dg3"
      }
    },
    {
      "cell_type": "code",
      "source": [
        "review_element = soup.find(\"div\", class_=\"review-text\")"
      ],
      "metadata": {
        "id": "CqSROzxe3TuT"
      },
      "execution_count": null,
      "outputs": []
    },
    {
      "cell_type": "markdown",
      "source": [
        "Getting the text itself"
      ],
      "metadata": {
        "id": "ijaOgXBL3ayF"
      }
    },
    {
      "cell_type": "code",
      "source": [
        "review_text = review_element.get_text()"
      ],
      "metadata": {
        "id": "eNm4L9dV3e02"
      },
      "execution_count": null,
      "outputs": []
    },
    {
      "cell_type": "markdown",
      "source": [
        "Beginning the analysis"
      ],
      "metadata": {
        "id": "zD4TvPg23ouC"
      }
    },
    {
      "cell_type": "code",
      "source": [
        "sia = SentimentIntensityAnalyzer()"
      ],
      "metadata": {
        "id": "xj7UwHpn3xna"
      },
      "execution_count": null,
      "outputs": []
    },
    {
      "cell_type": "markdown",
      "source": [
        "Conducting the analysis"
      ],
      "metadata": {
        "id": "NKMEzLVa6K1E"
      }
    },
    {
      "cell_type": "code",
      "source": [
        "sentiment = sia.polarity_scores(review_text)"
      ],
      "metadata": {
        "id": "RueDM4U_6Za0"
      },
      "execution_count": null,
      "outputs": []
    },
    {
      "cell_type": "markdown",
      "source": [
        "Getting the results"
      ],
      "metadata": {
        "id": "I5lqysIy6_Cv"
      }
    },
    {
      "cell_type": "code",
      "source": [
        "print(\"Sentiment Scores:\")"
      ],
      "metadata": {
        "colab": {
          "base_uri": "https://localhost:8080/"
        },
        "id": "zDmoJFaH7A6p",
        "outputId": "ca06face-6451-4967-dbc8-afbf4787e846"
      },
      "execution_count": 1,
      "outputs": [
        {
          "output_type": "stream",
          "name": "stdout",
          "text": [
            "Sentiment Scores:\n"
          ]
        }
      ]
    },
    {
      "cell_type": "code",
      "source": [
        "print(f\"Positive: {sentiment['pos']: .2f}\")"
      ],
      "metadata": {
        "id": "GnPdts0u_EOt"
      },
      "execution_count": null,
      "outputs": []
    },
    {
      "cell_type": "code",
      "source": [
        "print(f\"Negative: {sentiment['neg']: .2f}\")"
      ],
      "metadata": {
        "id": "OcCiyvKX_QNb"
      },
      "execution_count": null,
      "outputs": []
    },
    {
      "cell_type": "code",
      "source": [
        "print(f\"Neutral: {sentiment['neu']: .2f}\")"
      ],
      "metadata": {
        "id": "tqWrU7w7AL2r"
      },
      "execution_count": null,
      "outputs": []
    },
    {
      "cell_type": "code",
      "source": [
        "print(f\"Compound: {sentiment['compound']: .2f}\")"
      ],
      "metadata": {
        "id": "N4OzRnqVAODM"
      },
      "execution_count": null,
      "outputs": []
    }
  ]
}